{
  "nbformat": 4,
  "nbformat_minor": 0,
  "metadata": {
    "kernelspec": {
      "display_name": "Python 3",
      "language": "python",
      "name": "python3"
    },
    "language_info": {
      "codemirror_mode": {
        "name": "ipython",
        "version": 3
      },
      "file_extension": ".py",
      "mimetype": "text/x-python",
      "name": "python",
      "nbconvert_exporter": "python",
      "pygments_lexer": "ipython3",
      "version": "3.6.5"
    },
    "colab": {
      "name": "Chapter 02 - 2. OPEN API 활용하여 json data 추출하기.ipynb",
      "version": "0.3.2",
      "provenance": [],
      "collapsed_sections": [],
      "include_colab_link": true
    }
  },
  "cells": [
    {
      "cell_type": "markdown",
      "metadata": {
        "id": "view-in-github",
        "colab_type": "text"
      },
      "source": [
        "<a href=\"https://colab.research.google.com/github/win71/python_fast_campus2/blob/master/Chapter_02_2_OPEN_API_%ED%99%9C%EC%9A%A9%ED%95%98%EC%97%AC_json_data_%EC%B6%94%EC%B6%9C%ED%95%98%EA%B8%B0.ipynb\" target=\"_parent\"><img src=\"https://colab.research.google.com/assets/colab-badge.svg\" alt=\"Open In Colab\"/></a>"
      ]
    },
    {
      "cell_type": "markdown",
      "metadata": {
        "id": "WmF0k9956RMX",
        "colab_type": "text"
      },
      "source": [
        "### 학습목표\n",
        " 1. OPEN API 사용하여 데이터 획득하기"
      ]
    },
    {
      "cell_type": "markdown",
      "metadata": {
        "id": "5mT0LpML6RMa",
        "colab_type": "text"
      },
      "source": [
        "#### 공공데이터 포털 OPEN API 사용하기\n",
        "1. 공공데이터 포털 회원가입/로그인(https://www.data.go.kr/)\n",
        "2. API 사용 요청 / 키 발급\n",
        "3. API 문서(specification) 확인\n",
        "4. API 테스트 및 개발"
      ]
    },
    {
      "cell_type": "code",
      "metadata": {
        "id": "dv3V9zyP6RMc",
        "colab_type": "code",
        "colab": {}
      },
      "source": [
        "service_key='7MT%2F0ZgCKj8FbnmJj5PqA4JGZ%2BYYyWCgw9VEc1CiqbhtdSSD49J7KpPSR4zX3LkjilJDt5Lhmajol4AIwuRG0w%3D%3D'"
      ],
      "execution_count": 0,
      "outputs": []
    },
    {
      "cell_type": "markdown",
      "metadata": {
        "id": "RQ7mszIG6RMi",
        "colab_type": "text"
      },
      "source": [
        "#### Endpoint 확인하기\n",
        " - API가 서비스되는 서버의 IP 혹은 domain 주소"
      ]
    },
    {
      "cell_type": "code",
      "metadata": {
        "id": "xSwpRmOvCDRm",
        "colab_type": "code",
        "colab": {
          "base_uri": "https://localhost:8080/",
          "height": 36
        },
        "outputId": "c1c329d5-deda-45cb-a0e1-185b39c52922"
      },
      "source": [
        "endpoint='http://api.visitkorea.or.kr/openapi/service/rest/EngService/areaCode?serviceKey=인증키&numOfRows=10&pageSize=10&pageNo=1&MobileOS=ETC&MobileApp=AppTest'.format(service_key)\n",
        "print(endpoint)\n",
        "## 예제에서 인증키 부분을 본인의 키로 대체해야 한다. "
      ],
      "execution_count": 6,
      "outputs": [
        {
          "output_type": "stream",
          "text": [
            "http://api.visitkorea.or.kr/openapi/service/rest/EngService/areaCode?serviceKey=인증키&numOfRows=10&pageSize=10&pageNo=1&MobileOS=ETC&MobileApp=AppTest\n"
          ],
          "name": "stdout"
        }
      ]
    },
    {
      "cell_type": "code",
      "metadata": {
        "id": "YiF-NOt-6RMk",
        "colab_type": "code",
        "colab": {
          "base_uri": "https://localhost:8080/",
          "height": 56
        },
        "outputId": "2a934da5-5dcc-43d7-d0ec-81cc0c0dedda"
      },
      "source": [
        "# format 함수이용위해서 중괄호 사용\n",
        "endpoint='http://api.visitkorea.or.kr/openapi/service/rest/EngService/areaCode?serviceKey={}&numOfRows=10&pageSize=10&pageNo=1&MobileOS=ETC&MobileApp=AppTest'.format(service_key)\n",
        "print(endpoint)"
      ],
      "execution_count": 7,
      "outputs": [
        {
          "output_type": "stream",
          "text": [
            "http://api.visitkorea.or.kr/openapi/service/rest/EngService/areaCode?serviceKey=7MT%2F0ZgCKj8FbnmJj5PqA4JGZ%2BYYyWCgw9VEc1CiqbhtdSSD49J7KpPSR4zX3LkjilJDt5Lhmajol4AIwuRG0w%3D%3D&numOfRows=10&pageSize=10&pageNo=1&MobileOS=ETC&MobileApp=AppTest\n"
          ],
          "name": "stdout"
        }
      ]
    },
    {
      "cell_type": "code",
      "metadata": {
        "id": "9dxH779FB7K4",
        "colab_type": "code",
        "colab": {
          "base_uri": "https://localhost:8080/",
          "height": 56
        },
        "outputId": "c9c92aa5-3ca7-4676-b67d-052acd66fbd2"
      },
      "source": [
        "##json형태로 파일 받기 위해 마지막에 &_type=json 추가\n",
        "\n",
        "endpoint='http://api.visitkorea.or.kr/openapi/service/rest/EngService/areaCode?serviceKey={}&numOfRows=10&pageSize=10&pageNo=1&MobileOS=ETC&MobileApp=AppTest&_type=json'.format(service_key)\n",
        "print(endpoint)"
      ],
      "execution_count": 5,
      "outputs": [
        {
          "output_type": "stream",
          "text": [
            "http://api.visitkorea.or.kr/openapi/service/rest/EngService/areaCode?serviceKey=7MT%2F0ZgCKj8FbnmJj5PqA4JGZ%2BYYyWCgw9VEc1CiqbhtdSSD49J7KpPSR4zX3LkjilJDt5Lhmajol4AIwuRG0w%3D%3D&numOfRows=10&pageSize=10&pageNo=1&MobileOS=ETC&MobileApp=AppTest&_type=json\n"
          ],
          "name": "stdout"
        }
      ]
    },
    {
      "cell_type": "code",
      "metadata": {
        "id": "AzA3j1VbB5wE",
        "colab_type": "code",
        "colab": {}
      },
      "source": [
        ""
      ],
      "execution_count": 0,
      "outputs": []
    },
    {
      "cell_type": "markdown",
      "metadata": {
        "id": "hLzbiHaK6RMq",
        "colab_type": "text"
      },
      "source": [
        "#### key 값 확인하기\n",
        " - 서비스 호출 트래킹할 목적이나 악의적인 사용을 금지할 목적으로 주로 사용\n",
        " - 새로 발급받은 키는 1시간 이후 사용 가능"
      ]
    },
    {
      "cell_type": "code",
      "metadata": {
        "id": "2drVyVWe6RMr",
        "colab_type": "code",
        "colab": {}
      },
      "source": [
        ""
      ],
      "execution_count": 0,
      "outputs": []
    },
    {
      "cell_type": "markdown",
      "metadata": {
        "id": "LlLTQmXS6RMw",
        "colab_type": "text"
      },
      "source": [
        "#### Parameter 확인하기\n",
        " - API 호출에 필요한 parameter 값 확인 및 구성"
      ]
    },
    {
      "cell_type": "code",
      "metadata": {
        "id": "OB_si7qb6RMx",
        "colab_type": "code",
        "colab": {
          "base_uri": "https://localhost:8080/",
          "height": 411
        },
        "outputId": "4aa01c1b-dcb2-4235-bf29-5026894b7d4d"
      },
      "source": [
        "import requests\n",
        "endpoint='http://api.visitkorea.or.kr/openapi/service/rest/EngService/areaCode?serviceKey={}&numOfRows=10&pageSize=10&pageNo={}&MobileOS=ETC&MobileApp=AppTest&_type=json'.format(service_key,1)\n",
        "\n",
        "resp=requests.get(endpoint)\n",
        "print(resp)\n",
        "\n",
        "print(resp.status_code)\n",
        "\n",
        "print(resp.text)\n",
        "print('==============================================================================')\n",
        "\n",
        "resp.json()  ## json 파일을 사전형태로 받아온다.\n",
        "\n",
        "\n"
      ],
      "execution_count": 41,
      "outputs": [
        {
          "output_type": "stream",
          "text": [
            "<Response [200]>\n",
            "200\n",
            "{\"response\":{\"header\":{\"resultCode\":\"0000\",\"resultMsg\":\"OK\"},\"body\":{\"items\":{\"item\":[{\"code\":1,\"name\":\"Seoul\",\"rnum\":1},{\"code\":2,\"name\":\"Incheon\",\"rnum\":2},{\"code\":3,\"name\":\"Daejeon\",\"rnum\":3},{\"code\":4,\"name\":\"Daegu\",\"rnum\":4},{\"code\":5,\"name\":\"Gwangju\",\"rnum\":5},{\"code\":6,\"name\":\"Busan\",\"rnum\":6},{\"code\":7,\"name\":\"Ulsan\",\"rnum\":7},{\"code\":8,\"name\":\"Sejong\",\"rnum\":8},{\"code\":31,\"name\":\"Gyeonggi-do\",\"rnum\":9},{\"code\":32,\"name\":\"Gangwon-do\",\"rnum\":10}]},\"numOfRows\":10,\"pageNo\":1,\"totalCount\":17}}}\n",
            "==============================================================================\n"
          ],
          "name": "stdout"
        },
        {
          "output_type": "execute_result",
          "data": {
            "text/plain": [
              "{'response': {'body': {'items': {'item': [{'code': 1,\n",
              "      'name': 'Seoul',\n",
              "      'rnum': 1},\n",
              "     {'code': 2, 'name': 'Incheon', 'rnum': 2},\n",
              "     {'code': 3, 'name': 'Daejeon', 'rnum': 3},\n",
              "     {'code': 4, 'name': 'Daegu', 'rnum': 4},\n",
              "     {'code': 5, 'name': 'Gwangju', 'rnum': 5},\n",
              "     {'code': 6, 'name': 'Busan', 'rnum': 6},\n",
              "     {'code': 7, 'name': 'Ulsan', 'rnum': 7},\n",
              "     {'code': 8, 'name': 'Sejong', 'rnum': 8},\n",
              "     {'code': 31, 'name': 'Gyeonggi-do', 'rnum': 9},\n",
              "     {'code': 32, 'name': 'Gangwon-do', 'rnum': 10}]},\n",
              "   'numOfRows': 10,\n",
              "   'pageNo': 1,\n",
              "   'totalCount': 17},\n",
              "  'header': {'resultCode': '0000', 'resultMsg': 'OK'}}}"
            ]
          },
          "metadata": {
            "tags": []
          },
          "execution_count": 41
        }
      ]
    },
    {
      "cell_type": "code",
      "metadata": {
        "id": "kMKnY7DlH7lC",
        "colab_type": "code",
        "colab": {
          "base_uri": "https://localhost:8080/",
          "height": 93
        },
        "outputId": "611db0ce-e0c5-4cb5-8be4-44ea1d0410bd"
      },
      "source": [
        "data=resp.json()  ## json 파일을 사전형태로 받아온다.\n",
        "print(len(data))\n",
        "data=data['response']\n",
        "print(data)\n",
        "print(len(data))"
      ],
      "execution_count": 93,
      "outputs": [
        {
          "output_type": "stream",
          "text": [
            "1\n",
            "{'header': {'resultCode': '0000', 'resultMsg': 'OK'}, 'body': {'items': {'item': [{'code': 1, 'name': 'Seoul', 'rnum': 1}, {'code': 2, 'name': 'Incheon', 'rnum': 2}, {'code': 3, 'name': 'Daejeon', 'rnum': 3}, {'code': 4, 'name': 'Daegu', 'rnum': 4}, {'code': 5, 'name': 'Gwangju', 'rnum': 5}, {'code': 6, 'name': 'Busan', 'rnum': 6}, {'code': 7, 'name': 'Ulsan', 'rnum': 7}, {'code': 8, 'name': 'Sejong', 'rnum': 8}, {'code': 31, 'name': 'Gyeonggi-do', 'rnum': 9}, {'code': 32, 'name': 'Gangwon-do', 'rnum': 10}]}, 'numOfRows': 10, 'pageNo': 1, 'totalCount': 17}}\n",
            "2\n"
          ],
          "name": "stdout"
        }
      ]
    },
    {
      "cell_type": "code",
      "metadata": {
        "id": "njfufk0OZdsi",
        "colab_type": "code",
        "colab": {
          "base_uri": "https://localhost:8080/",
          "height": 36
        },
        "outputId": "4e1f223b-2e8f-4a37-b5ea-ae242c7fa06a"
      },
      "source": [
        "data1=data['header']\n",
        "print(data1)"
      ],
      "execution_count": 94,
      "outputs": [
        {
          "output_type": "stream",
          "text": [
            "{'resultCode': '0000', 'resultMsg': 'OK'}\n"
          ],
          "name": "stdout"
        }
      ]
    },
    {
      "cell_type": "code",
      "metadata": {
        "id": "MRMEzBFzIS-z",
        "colab_type": "code",
        "colab": {
          "base_uri": "https://localhost:8080/",
          "height": 56
        },
        "outputId": "5f35a211-6323-4106-a179-7e5387ea84d5"
      },
      "source": [
        "data=data['body']\n",
        "print(data)"
      ],
      "execution_count": 95,
      "outputs": [
        {
          "output_type": "stream",
          "text": [
            "{'items': {'item': [{'code': 1, 'name': 'Seoul', 'rnum': 1}, {'code': 2, 'name': 'Incheon', 'rnum': 2}, {'code': 3, 'name': 'Daejeon', 'rnum': 3}, {'code': 4, 'name': 'Daegu', 'rnum': 4}, {'code': 5, 'name': 'Gwangju', 'rnum': 5}, {'code': 6, 'name': 'Busan', 'rnum': 6}, {'code': 7, 'name': 'Ulsan', 'rnum': 7}, {'code': 8, 'name': 'Sejong', 'rnum': 8}, {'code': 31, 'name': 'Gyeonggi-do', 'rnum': 9}, {'code': 32, 'name': 'Gangwon-do', 'rnum': 10}]}, 'numOfRows': 10, 'pageNo': 1, 'totalCount': 17}\n"
          ],
          "name": "stdout"
        }
      ]
    },
    {
      "cell_type": "code",
      "metadata": {
        "id": "Kv_54McZIS18",
        "colab_type": "code",
        "colab": {
          "base_uri": "https://localhost:8080/",
          "height": 56
        },
        "outputId": "7aac0861-aa29-4d8a-dbad-d192abb4a777"
      },
      "source": [
        "data=data['items']\n",
        "print(data)"
      ],
      "execution_count": 96,
      "outputs": [
        {
          "output_type": "stream",
          "text": [
            "{'item': [{'code': 1, 'name': 'Seoul', 'rnum': 1}, {'code': 2, 'name': 'Incheon', 'rnum': 2}, {'code': 3, 'name': 'Daejeon', 'rnum': 3}, {'code': 4, 'name': 'Daegu', 'rnum': 4}, {'code': 5, 'name': 'Gwangju', 'rnum': 5}, {'code': 6, 'name': 'Busan', 'rnum': 6}, {'code': 7, 'name': 'Ulsan', 'rnum': 7}, {'code': 8, 'name': 'Sejong', 'rnum': 8}, {'code': 31, 'name': 'Gyeonggi-do', 'rnum': 9}, {'code': 32, 'name': 'Gangwon-do', 'rnum': 10}]}\n"
          ],
          "name": "stdout"
        }
      ]
    },
    {
      "cell_type": "code",
      "metadata": {
        "id": "T1sXuBrHIeLv",
        "colab_type": "code",
        "colab": {
          "base_uri": "https://localhost:8080/",
          "height": 56
        },
        "outputId": "2579a862-5134-4c0a-c88a-2edffb017d70"
      },
      "source": [
        "data=data['item']\n",
        "print(data)"
      ],
      "execution_count": 97,
      "outputs": [
        {
          "output_type": "stream",
          "text": [
            "[{'code': 1, 'name': 'Seoul', 'rnum': 1}, {'code': 2, 'name': 'Incheon', 'rnum': 2}, {'code': 3, 'name': 'Daejeon', 'rnum': 3}, {'code': 4, 'name': 'Daegu', 'rnum': 4}, {'code': 5, 'name': 'Gwangju', 'rnum': 5}, {'code': 6, 'name': 'Busan', 'rnum': 6}, {'code': 7, 'name': 'Ulsan', 'rnum': 7}, {'code': 8, 'name': 'Sejong', 'rnum': 8}, {'code': 31, 'name': 'Gyeonggi-do', 'rnum': 9}, {'code': 32, 'name': 'Gangwon-do', 'rnum': 10}]\n"
          ],
          "name": "stdout"
        }
      ]
    },
    {
      "cell_type": "code",
      "metadata": {
        "id": "JaWGmPdgIeBt",
        "colab_type": "code",
        "colab": {
          "base_uri": "https://localhost:8080/",
          "height": 55
        },
        "outputId": "4ea46f23-a320-4d30-a0dc-7db2dbc36c97"
      },
      "source": [
        "print(len(data))\n",
        "data_2=data[0]['name']\n",
        "print(data_2)"
      ],
      "execution_count": 99,
      "outputs": [
        {
          "output_type": "stream",
          "text": [
            "10\n",
            "Seoul\n"
          ],
          "name": "stdout"
        }
      ]
    },
    {
      "cell_type": "code",
      "metadata": {
        "id": "aBkhFO29IdzQ",
        "colab_type": "code",
        "colab": {
          "base_uri": "https://localhost:8080/",
          "height": 36
        },
        "outputId": "d142e386-3a35-45d7-a900-5a15bc98f4aa"
      },
      "source": [
        "data_name=[]\n",
        "for i in range(0,len(data)):\n",
        "    data_2=data[i]['name']\n",
        "    data_name.append(data_2)\n",
        "\n",
        "print(data_name)"
      ],
      "execution_count": 103,
      "outputs": [
        {
          "output_type": "stream",
          "text": [
            "['Seoul', 'Incheon', 'Daejeon', 'Daegu', 'Gwangju', 'Busan', 'Ulsan', 'Sejong', 'Gyeonggi-do', 'Gangwon-do']\n"
          ],
          "name": "stdout"
        }
      ]
    },
    {
      "cell_type": "code",
      "metadata": {
        "id": "A2taVnvLISoD",
        "colab_type": "code",
        "colab": {
          "base_uri": "https://localhost:8080/",
          "height": 36
        },
        "outputId": "33855ebb-fb11-4fdc-c07c-7281b45e87f6"
      },
      "source": [
        "data_code=[]\n",
        "for i in range(0,len(data)):\n",
        "    data_2=data[i]['code']\n",
        "    data_code.append(data_2)\n",
        "\n",
        "print(data_code)"
      ],
      "execution_count": 104,
      "outputs": [
        {
          "output_type": "stream",
          "text": [
            "[1, 2, 3, 4, 5, 6, 7, 8, 31, 32]\n"
          ],
          "name": "stdout"
        }
      ]
    },
    {
      "cell_type": "markdown",
      "metadata": {
        "id": "CXvEeq6G6RM2",
        "colab_type": "text"
      },
      "source": [
        "#### 요청 및 Response 확인\n",
        " - requests 모듈을 활용하여 API 호출\n",
        " - response 확인하여 원하는 정보 추출\n",
        " - json 데이터의 경우, python dictionary로 변경하여 사용가능"
      ]
    },
    {
      "cell_type": "code",
      "metadata": {
        "id": "CEyYZ6m06RM4",
        "colab_type": "code",
        "colab": {}
      },
      "source": [
        ""
      ],
      "execution_count": 0,
      "outputs": []
    }
  ]
}