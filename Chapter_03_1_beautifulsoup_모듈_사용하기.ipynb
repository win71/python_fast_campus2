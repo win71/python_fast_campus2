{
  "nbformat": 4,
  "nbformat_minor": 0,
  "metadata": {
    "kernelspec": {
      "display_name": "Python 3",
      "language": "python",
      "name": "python3"
    },
    "language_info": {
      "codemirror_mode": {
        "name": "ipython",
        "version": 3
      },
      "file_extension": ".py",
      "mimetype": "text/x-python",
      "name": "python",
      "nbconvert_exporter": "python",
      "pygments_lexer": "ipython3",
      "version": "3.6.5"
    },
    "colab": {
      "name": "Chapter 03 - 1. beautifulsoup 모듈 사용하기.ipynb",
      "version": "0.3.2",
      "provenance": [],
      "collapsed_sections": [],
      "include_colab_link": true
    }
  },
  "cells": [
    {
      "cell_type": "markdown",
      "metadata": {
        "id": "view-in-github",
        "colab_type": "text"
      },
      "source": [
        "<a href=\"https://colab.research.google.com/github/win71/python_fast_campus2/blob/master/Chapter_03_1_beautifulsoup_%EB%AA%A8%EB%93%88_%EC%82%AC%EC%9A%A9%ED%95%98%EA%B8%B0.ipynb\" target=\"_parent\"><img src=\"https://colab.research.google.com/assets/colab-badge.svg\" alt=\"Open In Colab\"/></a>"
      ]
    },
    {
      "cell_type": "markdown",
      "metadata": {
        "id": "5ITjI45VbY67",
        "colab_type": "text"
      },
      "source": [
        "### 학습목표\n",
        "1. beautifulsoup 모듈 사용하기"
      ]
    },
    {
      "cell_type": "code",
      "metadata": {
        "id": "H5C-IWgCbY69",
        "colab_type": "code",
        "colab": {}
      },
      "source": [
        "from bs4 import BeautifulSoup"
      ],
      "execution_count": 0,
      "outputs": []
    },
    {
      "cell_type": "markdown",
      "metadata": {
        "id": "II-OjSJubY7B",
        "colab_type": "text"
      },
      "source": [
        "#### html 문자열 파싱\n",
        " - 문자열로 정의된 html 데이터 파싱하기"
      ]
    },
    {
      "cell_type": "code",
      "metadata": {
        "id": "wnMbCnICbY7E",
        "colab_type": "code",
        "colab": {}
      },
      "source": [
        "html = '''\n",
        "<html>\n",
        "  <head>\n",
        "    <title>BeautifulSoup test</title>\n",
        "  </head>\n",
        "  <body>\n",
        "    <div id='upper' class='test' custom='good'>\n",
        "      <h3 title='Good Content Title'>Contents Title</h3>\n",
        "      <p>Test contents</p>\n",
        "    </div>\n",
        "    <div id='lower' class='test' custom='nice'>\n",
        "      <p>Test Test Test 1</p>\n",
        "      <p>Test Test Test 2</p>\n",
        "      <p>Test Test Test 3</p>\n",
        "    </div>\n",
        "  </body>\n",
        "</html>'''"
      ],
      "execution_count": 0,
      "outputs": []
    },
    {
      "cell_type": "markdown",
      "metadata": {
        "id": "jWqRo4jBbY7K",
        "colab_type": "text"
      },
      "source": [
        "#### find 함수\n",
        " - 특정 html tag를 검색\n",
        " - 검색 조건을 명시하여 찾고자하는 tag를 검색"
      ]
    },
    {
      "cell_type": "code",
      "metadata": {
        "id": "nVgzo0SObY7L",
        "colab_type": "code",
        "colab": {}
      },
      "source": [
        "soup=BeautifulSoup(html)"
      ],
      "execution_count": 0,
      "outputs": []
    },
    {
      "cell_type": "code",
      "metadata": {
        "id": "EjALxuPibY7P",
        "colab_type": "code",
        "outputId": "308bc0b6-0a54-4243-92df-0c6cda46068f",
        "colab": {
          "base_uri": "https://localhost:8080/",
          "height": 36
        }
      },
      "source": [
        "soup.find('h3')"
      ],
      "execution_count": 0,
      "outputs": [
        {
          "output_type": "execute_result",
          "data": {
            "text/plain": [
              "<h3 title=\"Good Content Title\">Contents Title</h3>"
            ]
          },
          "metadata": {
            "tags": []
          },
          "execution_count": 7
        }
      ]
    },
    {
      "cell_type": "code",
      "metadata": {
        "id": "L65bncNNdJAD",
        "colab_type": "code",
        "outputId": "c987e6d2-e028-4b13-fc1c-5523fc396be5",
        "colab": {
          "base_uri": "https://localhost:8080/",
          "height": 36
        }
      },
      "source": [
        "soup.find('p')\n",
        "## 가장 첫번째로 찾는 것을 찾아 반환한다. "
      ],
      "execution_count": 0,
      "outputs": [
        {
          "output_type": "execute_result",
          "data": {
            "text/plain": [
              "<p>Test contents</p>"
            ]
          },
          "metadata": {
            "tags": []
          },
          "execution_count": 8
        }
      ]
    },
    {
      "cell_type": "code",
      "metadata": {
        "id": "aRMhgZf3dNeU",
        "colab_type": "code",
        "outputId": "ed568d8b-e9ec-4575-c9c5-4f18458c8595",
        "colab": {
          "base_uri": "https://localhost:8080/",
          "height": 92
        }
      },
      "source": [
        "soup.find('div')"
      ],
      "execution_count": 0,
      "outputs": [
        {
          "output_type": "execute_result",
          "data": {
            "text/plain": [
              "<div class=\"test\" custom=\"good\" id=\"upper\">\n",
              "<h3 title=\"Good Content Title\">Contents Title</h3>\n",
              "<p>Test contents</p>\n",
              "</div>"
            ]
          },
          "metadata": {
            "tags": []
          },
          "execution_count": 9
        }
      ]
    },
    {
      "cell_type": "markdown",
      "metadata": {
        "id": "9s0YMtUjeBe7",
        "colab_type": "text"
      },
      "source": [
        "### 결과적으로 div에서 제일 먼저 나온 것을 찾는다. \n",
        "- 그렇다면 두번째 lower를 찾으려면 어떻게 해야한나?---> 속성을 이용하면된다.\n"
      ]
    },
    {
      "cell_type": "code",
      "metadata": {
        "id": "KD-irPJEfsyF",
        "colab_type": "code",
        "colab": {}
      },
      "source": [
        "#    <div id='upper' class='test' custom='good'>\n",
        "#      <h3 title='Good Content Title'>Contents Title</h3>\n",
        "#      <p>Test contents</p>\n",
        "#    </div>\n",
        "#    <div id='lower' class='test' custom='nice'>\n",
        "#      <p>Test Test Test 1</p>\n",
        "#      <p>Test Test Test 2</p>\n",
        "#      <p>Test Test Test 3</p>\n",
        "#    </div>\n",
        "\n",
        "## div안에 있는 속성을 이용하면 된다. 아래와 같이..."
      ],
      "execution_count": 0,
      "outputs": []
    },
    {
      "cell_type": "code",
      "metadata": {
        "id": "mwKSwI33dNSP",
        "colab_type": "code",
        "outputId": "6a4d5c23-bfa6-4b8f-b573-116261cb34d3",
        "colab": {
          "base_uri": "https://localhost:8080/",
          "height": 111
        }
      },
      "source": [
        "soup.find('div',custom='nice')"
      ],
      "execution_count": 0,
      "outputs": [
        {
          "output_type": "execute_result",
          "data": {
            "text/plain": [
              "<div class=\"test\" custom=\"nice\" id=\"lower\">\n",
              "<p>Test Test Test 1</p>\n",
              "<p>Test Test Test 2</p>\n",
              "<p>Test Test Test 3</p>\n",
              "</div>"
            ]
          },
          "metadata": {
            "tags": []
          },
          "execution_count": 13
        }
      ]
    },
    {
      "cell_type": "code",
      "metadata": {
        "id": "72YvsdY1dIwe",
        "colab_type": "code",
        "outputId": "b3200cbd-8ff6-40d1-8595-ae1a33432347",
        "colab": {
          "base_uri": "https://localhost:8080/",
          "height": 111
        }
      },
      "source": [
        "soup.find('div',id='lower')"
      ],
      "execution_count": 0,
      "outputs": [
        {
          "output_type": "execute_result",
          "data": {
            "text/plain": [
              "<div class=\"test\" custom=\"nice\" id=\"lower\">\n",
              "<p>Test Test Test 1</p>\n",
              "<p>Test Test Test 2</p>\n",
              "<p>Test Test Test 3</p>\n",
              "</div>"
            ]
          },
          "metadata": {
            "tags": []
          },
          "execution_count": 15
        }
      ]
    },
    {
      "cell_type": "code",
      "metadata": {
        "id": "um-iTZLtgIQT",
        "colab_type": "code",
        "outputId": "8a327583-48a9-445e-e20a-ef507a7d0d1a",
        "colab": {
          "base_uri": "https://localhost:8080/",
          "height": 139
        }
      },
      "source": [
        "soup.find('div',class='test')\n",
        "## 에러가 생간다. 왜??? class는  속성이 아니라 키워드이기 때문에 그냥 사용할 수 없다. \n",
        "## class_ 형태로 사용가능하다"
      ],
      "execution_count": 0,
      "outputs": [
        {
          "output_type": "error",
          "ename": "SyntaxError",
          "evalue": "ignored",
          "traceback": [
            "\u001b[0;36m  File \u001b[0;32m\"<ipython-input-17-2a1994e9fea4>\"\u001b[0;36m, line \u001b[0;32m1\u001b[0m\n\u001b[0;31m    soup.find('div',class='test')\u001b[0m\n\u001b[0m                        ^\u001b[0m\n\u001b[0;31mSyntaxError\u001b[0m\u001b[0;31m:\u001b[0m invalid syntax\n"
          ]
        }
      ]
    },
    {
      "cell_type": "code",
      "metadata": {
        "id": "fPfdGmBxgIB_",
        "colab_type": "code",
        "outputId": "00fbf6ca-3cbf-4f56-c94e-a01b06f09042",
        "colab": {
          "base_uri": "https://localhost:8080/",
          "height": 92
        }
      },
      "source": [
        "soup.find('div',class_='test')"
      ],
      "execution_count": 0,
      "outputs": [
        {
          "output_type": "execute_result",
          "data": {
            "text/plain": [
              "<div class=\"test\" custom=\"good\" id=\"upper\">\n",
              "<h3 title=\"Good Content Title\">Contents Title</h3>\n",
              "<p>Test contents</p>\n",
              "</div>"
            ]
          },
          "metadata": {
            "tags": []
          },
          "execution_count": 32
        }
      ]
    },
    {
      "cell_type": "markdown",
      "metadata": {
        "id": "cWW_D6OLhSR0",
        "colab_type": "text"
      },
      "source": [
        "### 두개이상의 속성을 가지고 찾으려면...find 함수의 특성을 이용한다.\n",
        "- 속성들을 사전형태로 만들어 find함수의 인수로 구성하면 된다. \n",
        "- attr=attr{'속성1':값,'속성2:값'}"
      ]
    },
    {
      "cell_type": "code",
      "metadata": {
        "id": "oaNv0BKlhQNm",
        "colab_type": "code",
        "outputId": "afbf8cc9-b9b4-4f94-f084-6b8abdf7a39f",
        "colab": {
          "base_uri": "https://localhost:8080/",
          "height": 111
        }
      },
      "source": [
        "attr={'class':'test','custom':'nice'}\n",
        "soup.find('div',attr)"
      ],
      "execution_count": 0,
      "outputs": [
        {
          "output_type": "execute_result",
          "data": {
            "text/plain": [
              "<div class=\"test\" custom=\"nice\" id=\"lower\">\n",
              "<p>Test Test Test 1</p>\n",
              "<p>Test Test Test 2</p>\n",
              "<p>Test Test Test 3</p>\n",
              "</div>"
            ]
          },
          "metadata": {
            "tags": []
          },
          "execution_count": 41
        }
      ]
    },
    {
      "cell_type": "markdown",
      "metadata": {
        "id": "8mq91gZvbY7O",
        "colab_type": "text"
      },
      "source": [
        "#### find_all 함수\n",
        " - find가 조건에 만족하는 하나의 tag만 검색한다면, find_all은 조건에 맞는 모든 tag를 리스트로 반환"
      ]
    },
    {
      "cell_type": "code",
      "metadata": {
        "id": "hfxYooe2j0wd",
        "colab_type": "code",
        "outputId": "33a3087e-8e4c-4e16-d6d6-3f1ecbc08658",
        "colab": {
          "base_uri": "https://localhost:8080/",
          "height": 167
        }
      },
      "source": [
        "soup.find_all('div')"
      ],
      "execution_count": 0,
      "outputs": [
        {
          "output_type": "execute_result",
          "data": {
            "text/plain": [
              "[<div class=\"test\" custom=\"good\" id=\"upper\">\n",
              " <h3 title=\"Good Content Title\">Contents Title</h3>\n",
              " <p>Test contents</p>\n",
              " </div>, <div class=\"test\" custom=\"nice\" id=\"lower\">\n",
              " <p>Test Test Test 1</p>\n",
              " <p>Test Test Test 2</p>\n",
              " <p>Test Test Test 3</p>\n",
              " </div>]"
            ]
          },
          "metadata": {
            "tags": []
          },
          "execution_count": 34
        }
      ]
    },
    {
      "cell_type": "code",
      "metadata": {
        "id": "gGYAVWYqj0t0",
        "colab_type": "code",
        "outputId": "c77b4872-b046-4962-ce01-ed5e989a2401",
        "colab": {
          "base_uri": "https://localhost:8080/",
          "height": 111
        }
      },
      "source": [
        "soup.find_all('div',class_='test',custom='nice')"
      ],
      "execution_count": 0,
      "outputs": [
        {
          "output_type": "execute_result",
          "data": {
            "text/plain": [
              "[<div class=\"test\" custom=\"nice\" id=\"lower\">\n",
              " <p>Test Test Test 1</p>\n",
              " <p>Test Test Test 2</p>\n",
              " <p>Test Test Test 3</p>\n",
              " </div>]"
            ]
          },
          "metadata": {
            "tags": []
          },
          "execution_count": 35
        }
      ]
    },
    {
      "cell_type": "code",
      "metadata": {
        "id": "zeW0s2Esj0pa",
        "colab_type": "code",
        "outputId": "93008f70-c5c8-4142-dbc5-71581bbcfbd8",
        "colab": {
          "base_uri": "https://localhost:8080/",
          "height": 111
        }
      },
      "source": [
        "attr={'class':'test', 'custom':'nice'}\n",
        "soup.find_all('div',attr)"
      ],
      "execution_count": 0,
      "outputs": [
        {
          "output_type": "execute_result",
          "data": {
            "text/plain": [
              "[<div class=\"test\" custom=\"nice\" id=\"lower\">\n",
              " <p>Test Test Test 1</p>\n",
              " <p>Test Test Test 2</p>\n",
              " <p>Test Test Test 3</p>\n",
              " </div>]"
            ]
          },
          "metadata": {
            "tags": []
          },
          "execution_count": 43
        }
      ]
    },
    {
      "cell_type": "code",
      "metadata": {
        "id": "M3LqOkZdj0R6",
        "colab_type": "code",
        "colab": {}
      },
      "source": [
        ""
      ],
      "execution_count": 0,
      "outputs": []
    },
    {
      "cell_type": "code",
      "metadata": {
        "id": "UMQbRRjfhRWS",
        "colab_type": "code",
        "colab": {}
      },
      "source": [
        ""
      ],
      "execution_count": 0,
      "outputs": []
    },
    {
      "cell_type": "markdown",
      "metadata": {
        "id": "sooA64wEbY7T",
        "colab_type": "text"
      },
      "source": [
        "#### get_text 함수\n",
        " - tag안의 value를 추출\n",
        " - 부모tag의 경우, 모든 자식 tag의 value를 추출"
      ]
    },
    {
      "cell_type": "code",
      "metadata": {
        "id": "k6FJwBEZbY7U",
        "colab_type": "code",
        "colab": {
          "base_uri": "https://localhost:8080/",
          "height": 55
        },
        "outputId": "6ff69a95-f4eb-427c-caf5-a10cd1514430"
      },
      "source": [
        "tag=soup.find('h3')\n",
        "print(tag)\n",
        "\n",
        "tag.get_text()"
      ],
      "execution_count": 51,
      "outputs": [
        {
          "output_type": "stream",
          "text": [
            "<h3 title=\"Good Content Title\">Contents Title</h3>\n"
          ],
          "name": "stdout"
        },
        {
          "output_type": "execute_result",
          "data": {
            "text/plain": [
              "'Contents Title'"
            ]
          },
          "metadata": {
            "tags": []
          },
          "execution_count": 51
        }
      ]
    },
    {
      "cell_type": "code",
      "metadata": {
        "id": "AEwsy3LQ2ggI",
        "colab_type": "code",
        "colab": {
          "base_uri": "https://localhost:8080/",
          "height": 55
        },
        "outputId": "36cb406d-0eac-47cb-9d24-24aa310664d8"
      },
      "source": [
        "tag=soup.find_all('p')\n",
        "print(tag)\n",
        "\n",
        "tag_text=[]\n",
        "for i in range(len(tag)):\n",
        "    add_text=tag[i].get_text()\n",
        "    tag_text.append(add_text)\n",
        "\n",
        "print(tag_text)\n",
        "    \n",
        "    \n"
      ],
      "execution_count": 55,
      "outputs": [
        {
          "output_type": "stream",
          "text": [
            "[<p>Test contents</p>, <p>Test Test Test 1</p>, <p>Test Test Test 2</p>, <p>Test Test Test 3</p>]\n",
            "['Test contents', 'Test Test Test 1', 'Test Test Test 2', 'Test Test Test 3']\n"
          ],
          "name": "stdout"
        }
      ]
    },
    {
      "cell_type": "code",
      "metadata": {
        "id": "TCuvzB1l49xm",
        "colab_type": "code",
        "colab": {}
      },
      "source": [
        "#    <div id='upper' class='test' custom='good'>\n",
        "#      <h3 title='Good Content Title'>Contents Title</h3>\n",
        "#      <p>Test contents</p>\n",
        "#    </div>\n",
        "#    <div id='lower' class='test' custom='nice'>\n",
        "#      <p>Test Test Test 1</p>\n",
        "#      <p>Test Test Test 2</p>\n",
        "#      <p>Test Test Test 3</p>\n",
        "#    </div>"
      ],
      "execution_count": 0,
      "outputs": []
    },
    {
      "cell_type": "code",
      "metadata": {
        "id": "7-ifKZke6CJv",
        "colab_type": "code",
        "colab": {
          "base_uri": "https://localhost:8080/",
          "height": 111
        },
        "outputId": "31a55718-8b23-45b2-98e0-deceab67c30d"
      },
      "source": [
        "attr={'id':'upper'}\n",
        "tag=soup.find('div',attr)\n",
        "print(tag)\n",
        "k=tag.get_text()\n",
        "k\n",
        "\n"
      ],
      "execution_count": 64,
      "outputs": [
        {
          "output_type": "stream",
          "text": [
            "<div class=\"test\" custom=\"good\" id=\"upper\">\n",
            "<h3 title=\"Good Content Title\">Contents Title</h3>\n",
            "<p>Test contents</p>\n",
            "</div>\n"
          ],
          "name": "stdout"
        },
        {
          "output_type": "execute_result",
          "data": {
            "text/plain": [
              "'\\nContents Title\\nTest contents\\n'"
            ]
          },
          "metadata": {
            "tags": []
          },
          "execution_count": 64
        }
      ]
    },
    {
      "cell_type": "code",
      "metadata": {
        "id": "5-1f8urh6VpX",
        "colab_type": "code",
        "colab": {
          "base_uri": "https://localhost:8080/",
          "height": 36
        },
        "outputId": "b8de7a17-7d8c-4a0a-830c-f0d85601099e"
      },
      "source": [
        "p=k.strip()\n",
        "p"
      ],
      "execution_count": 65,
      "outputs": [
        {
          "output_type": "execute_result",
          "data": {
            "text/plain": [
              "'Contents Title\\nTest contents'"
            ]
          },
          "metadata": {
            "tags": []
          },
          "execution_count": 65
        }
      ]
    },
    {
      "cell_type": "code",
      "metadata": {
        "id": "ugiTAiQd2gSG",
        "colab_type": "code",
        "colab": {}
      },
      "source": [
        ""
      ],
      "execution_count": 0,
      "outputs": []
    },
    {
      "cell_type": "markdown",
      "metadata": {
        "id": "amF86eMHbY7a",
        "colab_type": "text"
      },
      "source": [
        "#### attribute 값 추출하기\n",
        " - 경우에 따라 추출하고자 하는 값이 attribute에도 존재함\n",
        " - 이 경우에는 검색한 tag에 attribute 이름을 [ ]연산을 통해 추출가능\n",
        " - 예) div.find('h3')['title']"
      ]
    },
    {
      "cell_type": "code",
      "metadata": {
        "id": "gIRWaOnC7Ile",
        "colab_type": "code",
        "colab": {
          "base_uri": "https://localhost:8080/",
          "height": 36
        },
        "outputId": "9acd63a0-4821-490b-ffc5-f424fbdd0b25"
      },
      "source": [
        "tag=soup.find('h3')\n",
        "print(tag)"
      ],
      "execution_count": 67,
      "outputs": [
        {
          "output_type": "stream",
          "text": [
            "<h3 title=\"Good Content Title\">Contents Title</h3>\n"
          ],
          "name": "stdout"
        }
      ]
    },
    {
      "cell_type": "code",
      "metadata": {
        "id": "I9nbbJKq7IWJ",
        "colab_type": "code",
        "colab": {
          "base_uri": "https://localhost:8080/",
          "height": 36
        },
        "outputId": "c0a1d87c-6a61-4e1b-e290-f74b343144f1"
      },
      "source": [
        "tag['title']"
      ],
      "execution_count": 68,
      "outputs": [
        {
          "output_type": "execute_result",
          "data": {
            "text/plain": [
              "'Good Content Title'"
            ]
          },
          "metadata": {
            "tags": []
          },
          "execution_count": 68
        }
      ]
    },
    {
      "cell_type": "code",
      "metadata": {
        "id": "DgJe2WxpbY7b",
        "colab_type": "code",
        "colab": {}
      },
      "source": [
        ""
      ],
      "execution_count": 0,
      "outputs": []
    }
  ]
}