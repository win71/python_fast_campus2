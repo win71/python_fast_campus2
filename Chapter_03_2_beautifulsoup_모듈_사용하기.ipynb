{
  "nbformat": 4,
  "nbformat_minor": 0,
  "metadata": {
    "kernelspec": {
      "display_name": "Python 3",
      "language": "python",
      "name": "python3"
    },
    "language_info": {
      "codemirror_mode": {
        "name": "ipython",
        "version": 3
      },
      "file_extension": ".py",
      "mimetype": "text/x-python",
      "name": "python",
      "nbconvert_exporter": "python",
      "pygments_lexer": "ipython3",
      "version": "3.6.5"
    },
    "colab": {
      "name": "Chapter 03 - 2. beautifulsoup 모듈 사용하기.ipynb",
      "version": "0.3.2",
      "provenance": [],
      "collapsed_sections": [],
      "include_colab_link": true
    }
  },
  "cells": [
    {
      "cell_type": "markdown",
      "metadata": {
        "id": "view-in-github",
        "colab_type": "text"
      },
      "source": [
        "<a href=\"https://colab.research.google.com/github/win71/python_fast_campus2/blob/master/Chapter_03_2_beautifulsoup_%EB%AA%A8%EB%93%88_%EC%82%AC%EC%9A%A9%ED%95%98%EA%B8%B0.ipynb\" target=\"_parent\"><img src=\"https://colab.research.google.com/assets/colab-badge.svg\" alt=\"Open In Colab\"/></a>"
      ]
    },
    {
      "cell_type": "markdown",
      "metadata": {
        "id": "ZPkmVF_c8WF4",
        "colab_type": "text"
      },
      "source": [
        "### 학습목표\n",
        "1. beautifulsoup 모듈 사용하기\n",
        "2. id, class 속성으로 tag 찾기\n",
        "3. CSS를 이용하여 tag 찾기\n",
        "4. 속성 값으로 tag 찾기\n",
        "5. 정규표현식으로 tag 찾기\n",
        "6. 개발자도구를 이용하여 동적으로 로딩되는 데이터 추출하기"
      ]
    },
    {
      "cell_type": "code",
      "metadata": {
        "id": "UW87DrYP8WF7",
        "colab_type": "code",
        "colab": {}
      },
      "source": [
        "import requests\n",
        "from bs4 import BeautifulSoup"
      ],
      "execution_count": 0,
      "outputs": []
    },
    {
      "cell_type": "markdown",
      "metadata": {
        "id": "VFI2GTnn8WGA",
        "colab_type": "text"
      },
      "source": [
        "#### 다음 뉴스 데이터 추출\n",
        " - 뉴스기사에서 제목, 작성자, 작성일\n",
        " , 댓글 개수 추출\n",
        " - [뉴스링크](https://news.v.daum.net/v/20190728165812603)\n",
        " - tag를 추출할때는 가장 그 tag를 쉽게 특정할 수 있는 속성을 사용\n",
        "  - id의 경우 원칙적으로 한 html 문서 내에서 유일\n",
        "  "
      ]
    },
    {
      "cell_type": "code",
      "metadata": {
        "id": "1gZw8T-Q8WGB",
        "colab_type": "code",
        "colab": {}
      },
      "source": [
        "url='https://news.v.daum.net/v/20190728165812603'\n",
        "resp=requests.get(url)\n",
        "html=resp.text"
      ],
      "execution_count": 0,
      "outputs": []
    },
    {
      "cell_type": "markdown",
      "metadata": {
        "id": "Csf2n8gI8WGE",
        "colab_type": "text"
      },
      "source": [
        "* id, class 속성으로 tag 찾기\n",
        " - 타이틀\n",
        " - 작성자, 작성일"
      ]
    },
    {
      "cell_type": "code",
      "metadata": {
        "id": "K-JWcn9V8WGF",
        "colab_type": "code",
        "colab": {}
      },
      "source": [
        "soup=BeautifulSoup(html)\n",
        "soup\n"
      ],
      "execution_count": 0,
      "outputs": []
    },
    {
      "cell_type": "code",
      "metadata": {
        "id": "6ICVYUrF8WGI",
        "colab_type": "code",
        "colab": {}
      },
      "source": [
        "## <h3 class=\"tit_view\" data-translation=\"\">일론머스크 \"테슬라에서 넷플릭스·유튜브 즐길 날 온다\"</h3>"
      ],
      "execution_count": 0,
      "outputs": []
    },
    {
      "cell_type": "code",
      "metadata": {
        "id": "dTYHbNzC8WGL",
        "colab_type": "code",
        "colab": {
          "base_uri": "https://localhost:8080/",
          "height": 35
        },
        "outputId": "e1178440-9d8e-4a06-d729-5bf3cf2d26b4"
      },
      "source": [
        "attr={'class':'tit_view'}\n",
        "title=soup.find('h3',attr)\n",
        "title\n",
        "\n",
        "title.get_text()\n",
        "\n",
        "## 여기에서는 h3라는 tag가 운좋게 하나만 있어서 가능\n",
        "## 하지만 작성자와 입력날짜는 span이라는 tag에 공존"
      ],
      "execution_count": 34,
      "outputs": [
        {
          "output_type": "execute_result",
          "data": {
            "text/plain": [
              "'일론머스크 \"테슬라에서 넷플릭스·유튜브 즐길 날 온다\"'"
            ]
          },
          "metadata": {
            "tags": []
          },
          "execution_count": 34
        }
      ]
    },
    {
      "cell_type": "code",
      "metadata": {
        "id": "yLbmetRT2jPq",
        "colab_type": "code",
        "colab": {
          "base_uri": "https://localhost:8080/",
          "height": 53
        },
        "outputId": "10df1a26-1969-42ff-b3be-42d6aafdc116"
      },
      "source": [
        "attr={'class':'txt_info'}\n",
        "content=soup.find_all('span',attr)\n",
        "\n",
        "print(content[0])\n",
        "print(content[1])"
      ],
      "execution_count": 41,
      "outputs": [
        {
          "output_type": "stream",
          "text": [
            "<span class=\"txt_info\">이민우</span>\n",
            "<span class=\"txt_info\">입력 2019.07.28. 16:58</span>\n"
          ],
          "name": "stdout"
        }
      ]
    },
    {
      "cell_type": "code",
      "metadata": {
        "id": "DFb45rjT2jA9",
        "colab_type": "code",
        "colab": {
          "base_uri": "https://localhost:8080/",
          "height": 71
        },
        "outputId": "a12c0db1-3f5f-44b9-87c7-ec798b2b15c4"
      },
      "source": [
        "## 또다른 방법: 상위부터 찾아서 범위를 출여나간다.\n",
        "attr={'class':'info_view'}\n",
        "info=soup.find('span',attr)\n",
        "print(info)\n",
        "info.find_all('span',class_='txt_info')"
      ],
      "execution_count": 46,
      "outputs": [
        {
          "output_type": "stream",
          "text": [
            "<span class=\"info_view\"> <span class=\"txt_info\">이민우</span> <span class=\"txt_info\">입력 2019.07.28. 16:58</span> <button class=\"emph_g2 link_cmt\" id=\"alexCounter\">댓글 <span class=\"alex-count-area\">0</span>개</button> </span>\n"
          ],
          "name": "stdout"
        },
        {
          "output_type": "execute_result",
          "data": {
            "text/plain": [
              "[<span class=\"txt_info\">이민우</span>,\n",
              " <span class=\"txt_info\">입력 2019.07.28. 16:58</span>]"
            ]
          },
          "metadata": {
            "tags": []
          },
          "execution_count": 46
        }
      ]
    },
    {
      "cell_type": "code",
      "metadata": {
        "id": "T4TWKhjy8WGO",
        "colab_type": "code",
        "colab": {}
      },
      "source": [
        ""
      ],
      "execution_count": 0,
      "outputs": []
    },
    {
      "cell_type": "markdown",
      "metadata": {
        "id": "bUgdbzV08WGR",
        "colab_type": "text"
      },
      "source": [
        "* CSS를 이용하여 tag 찾기\n",
        " - select, select_one함수 사용 \n",
        " - css selector 사용법\n",
        "   - 태그명 찾기 tag \n",
        "   - 자손 태그 찾기 - 자손 관계 (tag tag)\n",
        "   - 자식 태그 찾기 - 다이렉트 자식 관계 (tag > tag)\n",
        "   - 아이디 찾기 #id\n",
        "   - 클래스 찾기 .class\n",
        "   - 속성값 찾기 [name='test']\n",
        "     - 속성값 prefix 찾기 [name ^='test']\n",
        "     - 속성값 suffix 찾기 [name $='test']\n",
        "     - 속성값 substring 찾기 [name *='test]\n",
        "   - n번째 자식 tag 찾기 :nth-child(n)"
      ]
    },
    {
      "cell_type": "code",
      "metadata": {
        "id": "VIiLaDKS8WGS",
        "colab_type": "code",
        "colab": {
          "base_uri": "https://localhost:8080/",
          "height": 91
        },
        "outputId": "7417b61b-539d-470a-fbf4-d73519139816"
      },
      "source": [
        "container=soup.find('div',id='harmonyContainer')\n",
        "a=container.find_all('p')\n",
        "print(a)\n",
        "print(len(a))\n",
        "\n",
        "contents=''\n",
        "for i in a:\n",
        "    add_text=i.get_text().strip()\n",
        "    contents=contents+b\n",
        "\n",
        "print(contents)\n",
        "\n",
        "\n"
      ],
      "execution_count": 65,
      "outputs": [
        {
          "output_type": "stream",
          "text": [
            "[<p class=\"link_figure\"><img alt=\"일론 머스크 테슬라 최고경영자(CEO) [이미지출처=로이터연합뉴스]\" class=\"thumb_g_article\" dmcf-mid=\"NBMY3ZZhN4\" dmcf-mtype=\"image\" height=\"366\" src=\"https://t1.daumcdn.net/news/201907/28/akn/20190728165813230vjsq.jpg\" width=\"550\"/></p>, <p>[아시아경제 이민우 기자] 일론 머스크 테슬라 최고경영자(CEO)가 자사 전기 자동차 모델에 넷플릭스와 유튜브 등 온라인동영상서비스(OTT)를 탑재할 것이라고 예고했다. 단순히 자율 주행 전기차가 단순히 주행을 위한 정보를 알려주는 것을 넘어 각종 영상 콘텐츠를 즐기는 공간으로도 확장하겠다는 전략으로 풀이된다.</p>, <p>27일(현지시간) 더버지 등 주요 외신들에 따르면 머스크 CEO는 자신의 트위터를 통해 이 같은 계획을 밝혔다. 그는 \"자동차가 정차했을 때 넷플릭스와 유튜브를 감상할 수 있는 기능이 조만간 추가될 것\"이라며 \"편안한 좌석과 서라운드 사운드 오디오를 통해 영화관과 같은 느낌을 받을 수 있을 것\"이라고 강조했다.</p>, <p class=\"link_figure\"><img alt=\"(출처=일론 머스크 트위터 계정 캡쳐)\" class=\"thumb_g_article\" dmcf-mid=\"NRhnb5SRpx\" dmcf-mtype=\"image\" height=\"352\" src=\"https://t1.daumcdn.net/news/201907/28/akn/20190728165813670hwxf.png\" width=\"550\"/></p>, <p>테슬라가 이처럼 콘텐츠 방면으로 확장하려 든 것은 이번이 처음이 아니다. 지난달 세계 최대 게임쇼 E3에서는 이미 운전자가 '폴아웃 쉘터'라는 게임을 할 수 있을 것이라고 발표한 바 있다. 이후에도 최근 게임업체 아타리사(社)의 자동차 경주 게임 ‘폴포지션’, 슈팅게임 ‘템페스트’, ‘미사일커맨드’ 등 고전 게임을 제공하기도 했다. 운전대로 게임을 조작하는 방식으로, 차가 주차돼 있을 경우에만 즐길 수 있다.</p>, <p>이번 영상 콘텐츠는 주행 중에도 감상할 수 있도록 하는 방안을 고려하고 있다. 테슬라 측은 규제당국이 자율주행에 대해 완전히 승인하면 차량이 움직일 때에도 승객이 동영상을 즐길 수 있을 것이라고 설명했다.</p>, <p>하지만 아직까지 자율주행차의 안전에 대한 우려는 완전히 걷혀지지 않은 상황이다. 지난 2017년 차량공유 서비스 우버의 자율주행 시범차량이 보행자와 충돌한 사고가 발생한 바 있다. 게다가 당시 시험 운전자는 디즈니의 동영상 스트리밍 서비스인 '훌루'를 이용하고 있던 것으로 밝혀졌다.</p>, <p dmcf-pid=\"NUOWg8Qxyd\" dmcf-ptype=\"general\">이민우 기자 letzwin@asiae.co.kr</p>]\n",
            "8\n",
            "이민우 기자 letzwin@asiae.co.kr이민우 기자 letzwin@asiae.co.kr이민우 기자 letzwin@asiae.co.kr이민우 기자 letzwin@asiae.co.kr이민우 기자 letzwin@asiae.co.kr이민우 기자 letzwin@asiae.co.kr이민우 기자 letzwin@asiae.co.kr이민우 기자 letzwin@asiae.co.kr\n"
          ],
          "name": "stdout"
        }
      ]
    },
    {
      "cell_type": "code",
      "metadata": {
        "id": "5vK1dVUi8WGV",
        "colab_type": "code",
        "colab": {
          "base_uri": "https://localhost:8080/",
          "height": 55
        },
        "outputId": "85059e1f-4015-4c99-825c-becd72fedc01"
      },
      "source": [
        "## 위의 코드를 간단히 하면\n",
        "\n",
        "contents=''\n",
        "for p in container.find_all('p'):\n",
        "    contents=contents+p.get_text().strip()\n",
        "    \n",
        "contents"
      ],
      "execution_count": 63,
      "outputs": [
        {
          "output_type": "execute_result",
          "data": {
            "text/plain": [
              "'[아시아경제 이민우 기자] 일론 머스크 테슬라 최고경영자(CEO)가 자사 전기 자동차 모델에 넷플릭스와 유튜브 등 온라인동영상서비스(OTT)를 탑재할 것이라고 예고했다. 단순히 자율 주행 전기차가 단순히 주행을 위한 정보를 알려주는 것을 넘어 각종 영상 콘텐츠를 즐기는 공간으로도 확장하겠다는 전략으로 풀이된다.27일(현지시간) 더버지 등 주요 외신들에 따르면 머스크 CEO는 자신의 트위터를 통해 이 같은 계획을 밝혔다. 그는 \"자동차가 정차했을 때 넷플릭스와 유튜브를 감상할 수 있는 기능이 조만간 추가될 것\"이라며 \"편안한 좌석과 서라운드 사운드 오디오를 통해 영화관과 같은 느낌을 받을 수 있을 것\"이라고 강조했다.테슬라가 이처럼 콘텐츠 방면으로 확장하려 든 것은 이번이 처음이 아니다. 지난달 세계 최대 게임쇼 E3에서는 이미 운전자가 \\'폴아웃 쉘터\\'라는 게임을 할 수 있을 것이라고 발표한 바 있다. 이후에도 최근 게임업체 아타리사(社)의 자동차 경주 게임 ‘폴포지션’, 슈팅게임 ‘템페스트’, ‘미사일커맨드’ 등 고전 게임을 제공하기도 했다. 운전대로 게임을 조작하는 방식으로, 차가 주차돼 있을 경우에만 즐길 수 있다.이번 영상 콘텐츠는 주행 중에도 감상할 수 있도록 하는 방안을 고려하고 있다. 테슬라 측은 규제당국이 자율주행에 대해 완전히 승인하면 차량이 움직일 때에도 승객이 동영상을 즐길 수 있을 것이라고 설명했다.하지만 아직까지 자율주행차의 안전에 대한 우려는 완전히 걷혀지지 않은 상황이다. 지난 2017년 차량공유 서비스 우버의 자율주행 시범차량이 보행자와 충돌한 사고가 발생한 바 있다. 게다가 당시 시험 운전자는 디즈니의 동영상 스트리밍 서비스인 \\'훌루\\'를 이용하고 있던 것으로 밝혀졌다.이민우 기자 letzwin@asiae.co.kr'"
            ]
          },
          "metadata": {
            "tags": []
          },
          "execution_count": 63
        }
      ]
    },
    {
      "cell_type": "code",
      "metadata": {
        "id": "9TFuyLUj8WGZ",
        "colab_type": "code",
        "colab": {}
      },
      "source": [
        ""
      ],
      "execution_count": 0,
      "outputs": []
    },
    {
      "cell_type": "code",
      "metadata": {
        "id": "mOz7HTnf8WGf",
        "colab_type": "code",
        "colab": {}
      },
      "source": [
        ""
      ],
      "execution_count": 0,
      "outputs": []
    },
    {
      "cell_type": "code",
      "metadata": {
        "id": "9jfzJf968WGi",
        "colab_type": "code",
        "colab": {}
      },
      "source": [
        ""
      ],
      "execution_count": 0,
      "outputs": []
    },
    {
      "cell_type": "code",
      "metadata": {
        "id": "-2gMZtcz8WGo",
        "colab_type": "code",
        "colab": {}
      },
      "source": [
        ""
      ],
      "execution_count": 0,
      "outputs": []
    },
    {
      "cell_type": "markdown",
      "metadata": {
        "id": "hUsXBEOU8WGs",
        "colab_type": "text"
      },
      "source": [
        "* 정규표현식으로 tag 찾기"
      ]
    },
    {
      "cell_type": "code",
      "metadata": {
        "id": "MXQ1JfAs8WGt",
        "colab_type": "code",
        "colab": {}
      },
      "source": [
        "import re"
      ],
      "execution_count": 0,
      "outputs": []
    },
    {
      "cell_type": "code",
      "metadata": {
        "id": "TqRWfO908WGw",
        "colab_type": "code",
        "colab": {}
      },
      "source": [
        "soup.find_all(re.compile('h\\d'))"
      ],
      "execution_count": 0,
      "outputs": []
    },
    {
      "cell_type": "code",
      "metadata": {
        "id": "DqSSZkb98WGz",
        "colab_type": "code",
        "colab": {}
      },
      "source": [
        ""
      ],
      "execution_count": 0,
      "outputs": []
    },
    {
      "cell_type": "code",
      "metadata": {
        "id": "IJSfoUPR8WG1",
        "colab_type": "code",
        "colab": {}
      },
      "source": [
        ""
      ],
      "execution_count": 0,
      "outputs": []
    },
    {
      "cell_type": "markdown",
      "metadata": {
        "id": "IN9PUcTH8WG5",
        "colab_type": "text"
      },
      "source": [
        "* 댓글 개수 추출\n",
        " - 댓글의 경우, 최초 로딩시에 전달되지 않음\n",
        " - 이 경우는 추가적으로 AJAX로 비동기적 호출을 하여 따로 data 전송을 함\n",
        "   - 개발자 도구의 network 탭에서 확인(XHR: XmlHTTPRequest)\n",
        "   - 비동기적 호출: 사이트의 전체가 아닌 일부분만 업데이트 가능하도록 함"
      ]
    },
    {
      "cell_type": "code",
      "metadata": {
        "id": "081ONb_68WG6",
        "colab_type": "code",
        "colab": {}
      },
      "source": [
        ""
      ],
      "execution_count": 0,
      "outputs": []
    },
    {
      "cell_type": "code",
      "metadata": {
        "id": "iBtqtFg28WG8",
        "colab_type": "code",
        "colab": {}
      },
      "source": [
        ""
      ],
      "execution_count": 0,
      "outputs": []
    },
    {
      "cell_type": "code",
      "metadata": {
        "id": "OiwRykl88WG_",
        "colab_type": "code",
        "colab": {}
      },
      "source": [
        ""
      ],
      "execution_count": 0,
      "outputs": []
    }
  ]
}