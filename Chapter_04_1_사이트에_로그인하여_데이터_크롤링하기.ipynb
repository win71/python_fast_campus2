{
  "nbformat": 4,
  "nbformat_minor": 0,
  "metadata": {
    "kernelspec": {
      "display_name": "Python 3",
      "language": "python",
      "name": "python3"
    },
    "language_info": {
      "codemirror_mode": {
        "name": "ipython",
        "version": 3
      },
      "file_extension": ".py",
      "mimetype": "text/x-python",
      "name": "python",
      "nbconvert_exporter": "python",
      "pygments_lexer": "ipython3",
      "version": "3.6.5"
    },
    "colab": {
      "name": "Chapter 04 - 1. 사이트에 로그인하여 데이터 크롤링하기.ipynb",
      "version": "0.3.2",
      "provenance": [],
      "collapsed_sections": [],
      "include_colab_link": true
    }
  },
  "cells": [
    {
      "cell_type": "markdown",
      "metadata": {
        "id": "view-in-github",
        "colab_type": "text"
      },
      "source": [
        "<a href=\"https://colab.research.google.com/github/win71/python_fast_campus2/blob/master/Chapter_04_1_%E1%84%89%E1%85%A1%E1%84%8B%E1%85%B5%E1%84%90%E1%85%B3%E1%84%8B%E1%85%A6_%E1%84%85%E1%85%A9%E1%84%80%E1%85%B3%E1%84%8B%E1%85%B5%E1%86%AB%E1%84%92%E1%85%A1%E1%84%8B%E1%85%A7_%E1%84%83%E1%85%A6%E1%84%8B%E1%85%B5%E1%84%90%E1%85%A5_%E1%84%8F%E1%85%B3%E1%84%85%E1%85%A9%E1%86%AF%E1%84%85%E1%85%B5%E1%86%BC%E1%84%92%E1%85%A1%E1%84%80%E1%85%B5.ipynb\" target=\"_parent\"><img src=\"https://colab.research.google.com/assets/colab-badge.svg\" alt=\"Open In Colab\"/></a>"
      ]
    },
    {
      "cell_type": "markdown",
      "metadata": {
        "id": "6o-GhWF9vGIs",
        "colab_type": "text"
      },
      "source": [
        "### 학습목표\n",
        "1. 다음 뉴스 댓글 개수 크롤링\n",
        "2. 로그인 하여 크롤링 하기"
      ]
    },
    {
      "cell_type": "markdown",
      "metadata": {
        "id": "L4-KN_dtvGIu",
        "colab_type": "text"
      },
      "source": [
        "#### 다음 뉴스 댓글 개수 크롤링하기"
      ]
    },
    {
      "cell_type": "code",
      "metadata": {
        "id": "YFkSL0favGIw",
        "colab_type": "code",
        "colab": {}
      },
      "source": [
        "import requests"
      ],
      "execution_count": 0,
      "outputs": []
    },
    {
      "cell_type": "markdown",
      "metadata": {
        "id": "jjFBDP_MvGI1",
        "colab_type": "text"
      },
      "source": [
        "#### HTTP 상태 코드\n",
        " - 1xx (정보): 요청을 받았으며 프로세스를 계속한다\n",
        " - 2xx (성공): 요청을 성공적으로 받았으며 인식했고 수용하였다\n",
        " - 3xx (리다이렉션): 요청 완료를 위해 추가 작업 조치가 필요하다\n",
        " - 4xx (클라이언트 오류): 요청의 문법이 잘못되었거나 요청을 처리할 수 없다\n",
        " - 5xx (서버 오류): 서버가 명백히 유효한 요청에 대해 충족을 실패했다\n",
        "\n",
        "[출처: 위키피디아](https://ko.wikipedia.org/wiki/HTTP_%EC%83%81%ED%83%9C_%EC%BD%94%EB%93%9C)"
      ]
    },
    {
      "cell_type": "code",
      "metadata": {
        "id": "IH6rS-5qvGI2",
        "colab_type": "code",
        "colab": {}
      },
      "source": [
        ""
      ],
      "execution_count": 0,
      "outputs": []
    },
    {
      "cell_type": "markdown",
      "metadata": {
        "id": "DretOBLyvGI5",
        "colab_type": "text"
      },
      "source": [
        "#### 로그인하여 데이터 크롤링하기\n",
        " - 특정한 경우, 로그인을 해서 크롤링을 해야만 하는 경우가 존재\n",
        " - 예) 쇼핑몰에서 주문한 아이템 목록, 마일리지 조회 등\n",
        " - 이 경우, 로그인을 자동화 하고 로그인에 사용한 세션을 유지하여 크롤링을 진행"
      ]
    },
    {
      "cell_type": "markdown",
      "metadata": {
        "id": "V9KQcJ0kvGI6",
        "colab_type": "text"
      },
      "source": [
        "#### 로그인 후 데이터 크롤링 하기\n",
        " 1. endpoint 찾기 (개발자 도구의 network를 활용)\n",
        " 2. id와 password가 전달되는 form data찾기\n",
        " 3. session 객체 생성하여 login 진행\n",
        " 4. 이후 session 객체로 원하는 페이지로 이동하여 크롤링\n",
        " "
      ]
    },
    {
      "cell_type": "code",
      "metadata": {
        "id": "x754fJqlvGI7",
        "colab_type": "code",
        "colab": {}
      },
      "source": [
        "import requests\n",
        "from bs4 import BeautifulSoup"
      ],
      "execution_count": 0,
      "outputs": []
    },
    {
      "cell_type": "markdown",
      "metadata": {
        "id": "T3COSXy1vGJA",
        "colab_type": "text"
      },
      "source": [
        "* endpoint 찾기"
      ]
    },
    {
      "cell_type": "code",
      "metadata": {
        "id": "0oH-8QB9vGJB",
        "colab_type": "code",
        "colab": {}
      },
      "source": [
        "# 로그인 endpoint\n",
        "url='https://www.kangcom.com/member/member_check.asp'\n"
      ],
      "execution_count": 0,
      "outputs": []
    },
    {
      "cell_type": "markdown",
      "metadata": {
        "id": "_beW9bkJvGJE",
        "colab_type": "text"
      },
      "source": [
        "* id, password로 구성된 form data 생성하기"
      ]
    },
    {
      "cell_type": "code",
      "metadata": {
        "id": "nvHP7LCmvGJF",
        "colab_type": "code",
        "colab": {}
      },
      "source": [
        "data={\n",
        "    'id': 'win71',\n",
        "    'pwd': 'win7259982**'\n",
        "}"
      ],
      "execution_count": 0,
      "outputs": []
    },
    {
      "cell_type": "markdown",
      "metadata": {
        "id": "SiFVotwzvGJI",
        "colab_type": "text"
      },
      "source": [
        "* login\n",
        " - endpoint(url)과 data를 구성하여 post 요청\n",
        " - login의 경우 post로 구성하는 것이 정상적인 웹사이트!"
      ]
    },
    {
      "cell_type": "code",
      "metadata": {
        "id": "a4cfZn-MvGJJ",
        "colab_type": "code",
        "outputId": "2f617b6c-5427-4565-d1a0-be46b550b474",
        "colab": {
          "base_uri": "https://localhost:8080/",
          "height": 35
        }
      },
      "source": [
        "s=requests.Session()\n",
        "resp=s.post(url,data=data)\n",
        "print(resp)"
      ],
      "execution_count": 0,
      "outputs": [
        {
          "output_type": "stream",
          "text": [
            "<Response [200]>\n"
          ],
          "name": "stdout"
        }
      ]
    },
    {
      "cell_type": "markdown",
      "metadata": {
        "id": "YBpN_uA0vGJN",
        "colab_type": "text"
      },
      "source": [
        "* crawling\n",
        " - login 시 사용했던 session을 다시 사용하여 요청"
      ]
    },
    {
      "cell_type": "code",
      "metadata": {
        "id": "fdJroCDlzkBd",
        "colab_type": "code",
        "outputId": "738ad66e-f15f-4a33-acd8-3eae5b9495d4",
        "colab": {
          "base_uri": "https://localhost:8080/",
          "height": 127
        }
      },
      "source": [
        "my_page='https://www.kangcom.com/mypage/'\n",
        "resp=s.get(my_page)\n",
        "#print(resp.text)\n",
        "\n",
        "print('================================================================================================')\n",
        "\n",
        "soup=BeautifulSoup(resp.content)  ## colab에서는 resp.text 말고 resp.content를 사용한다. \n",
        "## print(soup)\n",
        "print('=====================================================================')\n",
        "## soup.select('td')\n",
        "## <td class=\"a_bbslist55\" align=\"left\">0원&nbsp;<a href=\"/mypage/mileage/\"><img src=\"/images/mypage/btn_more1.gif\" width=\"21\" height=\"9\" border=\"0\"></a></td>soup.select('td.a_bbslist55')\n",
        "main_content1=soup.find_all('td',class_='a_bbslist55')\n",
        "print(main_content1)\n",
        "\n",
        "print('==========================================')\n",
        "\n",
        "main_content2=soup.select('td.a_bbslist55')\n",
        "print(main_content2)"
      ],
      "execution_count": 92,
      "outputs": [
        {
          "output_type": "stream",
          "text": [
            "================================================================================================\n",
            "=====================================================================\n",
            "[<td class=\"a_bbslist55\" width=\"60\"><strong>마일리지</strong></td>, <td class=\"a_bbslist55\" width=\"25\">| </td>, <td align=\"left\" class=\"a_bbslist55\">0원 <a href=\"/mypage/mileage/\"><img border=\"0\" height=\"9\" src=\"/images/mypage/btn_more1.gif\" width=\"21\"/></a></td>, <td class=\"a_bbslist55\"><strong>쿠     폰</strong></td>, <td class=\"a_bbslist55\" width=\"25\">| </td>, <td align=\"left\" class=\"a_bbslist55\"><span class=\"a_orange\">0</span>장 <a href=\"/mypage/coupon/\"><img border=\"0\" height=\"9\" src=\"/images/mypage/btn_more1.gif\" width=\"21\"/></a></td>]\n",
            "==========================================\n",
            "[<td class=\"a_bbslist55\" width=\"60\"><strong>마일리지</strong></td>, <td class=\"a_bbslist55\" width=\"25\">| </td>, <td align=\"left\" class=\"a_bbslist55\">0원 <a href=\"/mypage/mileage/\"><img border=\"0\" height=\"9\" src=\"/images/mypage/btn_more1.gif\" width=\"21\"/></a></td>, <td class=\"a_bbslist55\"><strong>쿠     폰</strong></td>, <td class=\"a_bbslist55\" width=\"25\">| </td>, <td align=\"left\" class=\"a_bbslist55\"><span class=\"a_orange\">0</span>장 <a href=\"/mypage/coupon/\"><img border=\"0\" height=\"9\" src=\"/images/mypage/btn_more1.gif\" width=\"21\"/></a></td>]\n"
          ],
          "name": "stdout"
        }
      ]
    },
    {
      "cell_type": "code",
      "metadata": {
        "id": "FpnaJ5FMGTK9",
        "colab_type": "code",
        "outputId": "5263b2c8-0ec3-490a-8f12-5d9bf411389f",
        "colab": {
          "base_uri": "https://localhost:8080/",
          "height": 35
        }
      },
      "source": [
        "text = main_content[2].get_text()\n",
        "text"
      ],
      "execution_count": 0,
      "outputs": [
        {
          "output_type": "execute_result",
          "data": {
            "text/plain": [
              "'0원\\xa0'"
            ]
          },
          "metadata": {
            "tags": []
          },
          "execution_count": 82
        }
      ]
    },
    {
      "cell_type": "code",
      "metadata": {
        "id": "VAB-J0nEvGJO",
        "colab_type": "code",
        "colab": {}
      },
      "source": [
        ""
      ],
      "execution_count": 0,
      "outputs": []
    }
  ]
}