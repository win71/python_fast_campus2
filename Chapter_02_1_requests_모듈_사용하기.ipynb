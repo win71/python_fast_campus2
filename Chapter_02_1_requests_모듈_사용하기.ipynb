{
  "nbformat": 4,
  "nbformat_minor": 0,
  "metadata": {
    "kernelspec": {
      "display_name": "Python 3",
      "language": "python",
      "name": "python3"
    },
    "language_info": {
      "codemirror_mode": {
        "name": "ipython",
        "version": 3
      },
      "file_extension": ".py",
      "mimetype": "text/x-python",
      "name": "python",
      "nbconvert_exporter": "python",
      "pygments_lexer": "ipython3",
      "version": "3.6.5"
    },
    "colab": {
      "name": "Chapter 02 - 1. requests 모듈 사용하기.ipynb",
      "version": "0.3.2",
      "provenance": [],
      "collapsed_sections": [],
      "include_colab_link": true
    }
  },
  "cells": [
    {
      "cell_type": "markdown",
      "metadata": {
        "id": "view-in-github",
        "colab_type": "text"
      },
      "source": [
        "<a href=\"https://colab.research.google.com/github/win71/python_fast_campus2/blob/master/Chapter_02_1_requests_%EB%AA%A8%EB%93%88_%EC%82%AC%EC%9A%A9%ED%95%98%EA%B8%B0.ipynb\" target=\"_parent\"><img src=\"https://colab.research.google.com/assets/colab-badge.svg\" alt=\"Open In Colab\"/></a>"
      ]
    },
    {
      "cell_type": "markdown",
      "metadata": {
        "id": "J7jExnKaqiTo",
        "colab_type": "text"
      },
      "source": [
        "## 크롬 이용하여 웹페이지 분석하기\n",
        "- 크롬으로 다음페이이지를 열고 우측상단에 도구더보기-->개발자 도구 클릭\n",
        "- 우측에서 실제로 해당 페이지에서 마우스 오른쪽 클리-->페이지 소스보기 하면 실제 html 소스 데이터가 나온다.\n",
        "\n",
        "## element 실습해보기\n",
        "- 제목이 어떤 태그로 보이는지 볼려면 개발자 소스 화면좌측 상단 화살표(네모안에 들어가 있다) 클릭하면 해당 제목이나 기사, 이미지를\n",
        "  커버링 하면 좌측 소스코드 화면에 표시가 된다.\n",
        "\n",
        "## 네크워크 \n",
        "- 기본으로 두번째 줄에서 preserve log는 클릭해서 표시한다.\n",
        "- 실행은 control+R로 실행한다.\n",
        "- 최근의 웹페이지는 복잡하기 때문에 따로 다른 기능을 통해 추가하고 있다. "
      ]
    },
    {
      "cell_type": "code",
      "metadata": {
        "id": "v-j1vwU2fEbu",
        "colab_type": "code",
        "colab": {}
      },
      "source": [
        ""
      ],
      "execution_count": 0,
      "outputs": []
    },
    {
      "cell_type": "markdown",
      "metadata": {
        "id": "EBZg3W-xe-OW",
        "colab_type": "text"
      },
      "source": [
        "### 학습목표 \n",
        " 1. requests 모듈 사용하여 http request/response 확인하기"
      ]
    },
    {
      "cell_type": "markdown",
      "metadata": {
        "id": "Ja0Wit_de-OY",
        "colab_type": "text"
      },
      "source": [
        "#### requests 모듈\n",
        "1. http request/response를 위한 모듈\n",
        "2. HTTP method를 메소드 명으로 사용하여 request 요청 예) get, post"
      ]
    },
    {
      "cell_type": "code",
      "metadata": {
        "id": "_g85btdbe-OZ",
        "colab_type": "code",
        "outputId": "46fceef8-cc98-4aa4-8d96-bb0cf4b6fd30",
        "colab": {
          "base_uri": "https://localhost:8080/",
          "height": 35
        }
      },
      "source": [
        "import requests\n",
        "url = 'https://news.v.daum.net/v/20190728165812603'\n",
        "url\n"
      ],
      "execution_count": 3,
      "outputs": [
        {
          "output_type": "execute_result",
          "data": {
            "text/plain": [
              "'https://news.v.daum.net/v/20190728165812603'"
            ]
          },
          "metadata": {
            "tags": []
          },
          "execution_count": 3
        }
      ]
    },
    {
      "cell_type": "code",
      "metadata": {
        "id": "5w4qsnNZBKkl",
        "colab_type": "code",
        "colab": {}
      },
      "source": [
        ""
      ],
      "execution_count": 0,
      "outputs": []
    },
    {
      "cell_type": "markdown",
      "metadata": {
        "id": "Z7AlHMaIe-Of",
        "colab_type": "text"
      },
      "source": [
        "#### get 요청하기\n",
        "1. http get 요청하기\n",
        "2. query parameter 이용하여 데이터 전달하기"
      ]
    },
    {
      "cell_type": "code",
      "metadata": {
        "id": "Xcmz_ulUe-Og",
        "colab_type": "code",
        "colab": {}
      },
      "source": [
        "resp=requests.get(url)\n",
        "resp\n",
        "\n",
        "resp.text   ## 페이지의 소스코드가 그대로 출력된다. "
      ],
      "execution_count": 0,
      "outputs": []
    },
    {
      "cell_type": "markdown",
      "metadata": {
        "id": "uk2RqB9Je-Ok",
        "colab_type": "text"
      },
      "source": [
        "#### post 요청하기\n",
        "1. http post 요청하기\n",
        "2. post data 이용하여 데이터 전달하기"
      ]
    },
    {
      "cell_type": "code",
      "metadata": {
        "id": "KVIoJ37Qe-Om",
        "colab_type": "code",
        "colab": {}
      },
      "source": [
        " url='https://www.kangcom.com/member/member_check.asp'\n",
        "        \n",
        "\n",
        " data={\n",
        "     'id':'win71',\n",
        "     'pwd': 'win7259982'\n",
        " }\n",
        "\n",
        "resp=requests.post(url,data=data)\n",
        "resp.text"
      ],
      "execution_count": 0,
      "outputs": []
    },
    {
      "cell_type": "markdown",
      "metadata": {
        "id": "SR93QslYe-Oq",
        "colab_type": "text"
      },
      "source": [
        "#### HTTP header 데이터 이용하기\n",
        "1. header 데이터 구성하기\n",
        "2. header 데이터 전달하기"
      ]
    },
    {
      "cell_type": "code",
      "metadata": {
        "id": "tT5mhQCKe-Or",
        "colab_type": "code",
        "colab": {}
      },
      "source": [
        "url = 'https://news.v.daum.net/v/20190728165812603'\n",
        "headers={\n",
        "    'user-agent':'Mozilla/5.0 (Windows NT 10.0; Win64; x64) AppleWebKit/537.36 (KHTML, like Gecko) Chrome/76.0.3809.132 Safari/537.36'\n",
        "}\n",
        "resp=requests.get(url,headers=headers)\n",
        "resp.text"
      ],
      "execution_count": 0,
      "outputs": []
    },
    {
      "cell_type": "markdown",
      "metadata": {
        "id": "rbX1VYTGe-Ov",
        "colab_type": "text"
      },
      "source": [
        "#### HTTP response 처리하기\n",
        "1. response 객체의 이해\n",
        "2. status_code 확인하기\n",
        "3. text 속성 확인하기"
      ]
    },
    {
      "cell_type": "code",
      "metadata": {
        "id": "W99dqhVVBhoC",
        "colab_type": "code",
        "colab": {
          "base_uri": "https://localhost:8080/",
          "height": 35
        },
        "outputId": "ca69df39-a9fc-413d-dbf3-f754889035b3"
      },
      "source": [
        "url = 'https://news.v.daum.net/v/20190728165812603'\n",
        "resp=requests.get(url)\n",
        "resp"
      ],
      "execution_count": 5,
      "outputs": [
        {
          "output_type": "execute_result",
          "data": {
            "text/plain": [
              "<Response [200]>"
            ]
          },
          "metadata": {
            "tags": []
          },
          "execution_count": 5
        }
      ]
    },
    {
      "cell_type": "code",
      "metadata": {
        "id": "qnGs9jYJBh4O",
        "colab_type": "code",
        "colab": {
          "base_uri": "https://localhost:8080/",
          "height": 35
        },
        "outputId": "fac00c3c-f5a6-4342-9e07-78984d81608b"
      },
      "source": [
        "resp.status_code"
      ],
      "execution_count": 6,
      "outputs": [
        {
          "output_type": "execute_result",
          "data": {
            "text/plain": [
              "200"
            ]
          },
          "metadata": {
            "tags": []
          },
          "execution_count": 6
        }
      ]
    },
    {
      "cell_type": "code",
      "metadata": {
        "id": "ArDFsEtRe-Ox",
        "colab_type": "code",
        "colab": {}
      },
      "source": [
        "url = 'https://news.v.daum.net/v/20190728165812603'\n",
        "resp=requests.get(url)\n",
        "\n",
        "if resp.status_code==200:\n",
        "    text=resp.text\n",
        "else:\n",
        "    print(\"error\")\n",
        "\n",
        "text"
      ],
      "execution_count": 0,
      "outputs": []
    }
  ]
}